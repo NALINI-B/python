{
 "cells": [
  {
   "cell_type": "markdown",
   "metadata": {},
   "source": [
    "# Question 1: 3 Numbers Sum\n",
    "\n",
    "Given a array with integers numbers arr and x, return a triplet (i,j,k) such that i+j+k = x\n",
    "\n",
    "## Example\n",
    "* **Input:** arr = [-1,0,1,2,-1,4], x = 6\n",
    "* **Output:** triplet (0, 2, 4)\n",
    "\n",
    "1. What are the best case and worst case senarios.\n",
    "2. Compute the time complexity of your solution\n"
   ]
  },
  {
   "cell_type": "code",
   "execution_count": 1,
   "metadata": {},
   "outputs": [
    {
     "name": "stdout",
     "output_type": "stream",
     "text": [
      "(0, 2, 4)\n"
     ]
    }
   ],
   "source": [
    "# Example usage:\n",
    "arr = [-1, 0, 1, 2, -1, 4]\n",
    "x = 6\n",
    "\n",
    "\n",
    "def find_triplet(arr, x):\n",
    "    arr.sort()  # Step 1: Sort the array\n",
    "    n = len(arr)\n",
    "    \n",
    "    for i in range(n - 2):  # Step 2: Iterate through the array\n",
    "        left = i + 1\n",
    "        right = n - 1\n",
    "        \n",
    "        \n",
    "        while left < right:  # Step 3: Use two pointers to find the other two elements\n",
    "            current_sum = arr[i] + arr[left] + arr[right]\n",
    "            \n",
    "            if current_sum == x:  # Step 4: Check if the triplet sum matches x\n",
    "                return (arr[i], arr[left], arr[right])\n",
    "            elif current_sum < x:  # Move the left pointer to the right\n",
    "                left += 1\n",
    "            else:  # Move the right pointer to the left\n",
    "                right -= 1\n",
    "                \n",
    "    return None  # If no such triplet is found\n",
    "\n",
    "result = find_triplet(arr, x)\n",
    "print(result)  # Output: (1, 3, 5) or any other valid triplet\n"
   ]
  },
  {
   "cell_type": "markdown",
   "metadata": {},
   "source": [
    "# Question 2: Kth Largest Element in an Array\n",
    "\n",
    "Given an integer array nums and an integer k, return the kth largest element in the array. Note that it is the kth largest element in the sorted order, not the kth distinct element.\n",
    "\n",
    "## Example 1:\n",
    "\n",
    "* **Input**: nums = [3,2,1,5,6,4], k = 2\n",
    "* **Output**: 5\n",
    "\n",
    "1. Can you solve it without sorting?\n",
    "2. What are the best case and worst case senarios.\n",
    "3. Compute the time complexity of your solution"
   ]
  },
  {
   "cell_type": "code",
   "execution_count": 2,
   "metadata": {},
   "outputs": [
    {
     "name": "stdout",
     "output_type": "stream",
     "text": [
      "5\n"
     ]
    }
   ],
   "source": [
    "import random\n",
    "\n",
    "# Example usage:\n",
    "nums = [3, 2, 1, 5, 6, 4]\n",
    "k = 2\n",
    "\n",
    "\n",
    "def partition(nums, left, right):\n",
    "    pivot = nums[right]\n",
    "    i = left\n",
    "    for j in range(left, right):\n",
    "        if nums[j] < pivot:\n",
    "            nums[i], nums[j] = nums[j], nums[i]\n",
    "            i += 1\n",
    "    nums[i], nums[right] = nums[right], nums[i]\n",
    "    return i\n",
    "\n",
    "def quickselect(nums, left, right, k_smallest):\n",
    "    if left == right:\n",
    "        return nums[left]\n",
    "    \n",
    "    pivot_index = partition(nums, left, right)\n",
    "    \n",
    "    if k_smallest == pivot_index:\n",
    "        return nums[k_smallest]\n",
    "    elif k_smallest < pivot_index:\n",
    "        return quickselect(nums, left, pivot_index - 1, k_smallest)\n",
    "    else:\n",
    "        return quickselect(nums, pivot_index + 1, right, k_smallest)\n",
    "\n",
    "def find_kth_largest(nums, k):\n",
    "    size = len(nums)\n",
    "    return quickselect(nums, 0, size - 1, size - k)\n",
    "\n",
    "\n",
    "result = find_kth_largest(nums, k)\n",
    "print(result)  # Output: 5\n"
   ]
  },
  {
   "cell_type": "code",
   "execution_count": 3,
   "metadata": {},
   "outputs": [
    {
     "name": "stdout",
     "output_type": "stream",
     "text": [
      "5\n"
     ]
    }
   ],
   "source": [
    "# Min-Heap\n",
    "\n",
    "import heapq\n",
    "\n",
    "# Example usage:\n",
    "nums = [3, 2, 1, 5, 6, 4]\n",
    "k = 2\n",
    "\n",
    "def find_kth_largest(nums, k):\n",
    "    # Create a min-heap with the first k elements\n",
    "    min_heap = nums[:k]\n",
    "    heapq.heapify(min_heap)\n",
    "    \n",
    "    # Iterate through the rest of the array\n",
    "    for num in nums[k:]:\n",
    "        # If the current number is larger than the smallest number in the heap\n",
    "        if num > min_heap[0]:\n",
    "            # Replace the smallest number with the current number\n",
    "            heapq.heappop(min_heap)\n",
    "            heapq.heappush(min_heap, num)\n",
    "    \n",
    "    # The root of the heap is the k-th largest element\n",
    "    return min_heap[0]\n",
    "\n",
    "\n",
    "result = find_kth_largest(nums, k)\n",
    "print(result)  # Output: 5\n"
   ]
  },
  {
   "cell_type": "markdown",
   "metadata": {},
   "source": [
    "# Question 3: WAVE ARRAY\n",
    "Given a sorted array arr[] of distinct integers. Sort the array into a wave-like array and return it In other words, arrange the elements into a sequence such that arr[1] >= arr[2] <= arr[3] >= arr[4] <= arr[5].....\n",
    "\n",
    "## Example 1:\n",
    "* **Input** : n = 5, arr = [1,2,3,4,5]\n",
    "* **Output** : 2 1 4 3 5\n",
    "\n",
    "Explanation: Array elements after sorting it in wave form are 2 1 4 3 5.\n",
    "\n",
    "## Example 2:\n",
    "* **Input**: n = 6 arr = [2,4,7,8,9,10] \n",
    "* **Output**: 4 2 8 7 10 9\n",
    "\n",
    "Explanation: Array elements after sorting it in wave form are 4 2 8 7 10 9.\n",
    "\n",
    "\n",
    "1. What are the best case and worst case senarios.\n",
    "2. Compute the time complexity of your solution\n",
    "\n"
   ]
  },
  {
   "cell_type": "code",
   "execution_count": 8,
   "metadata": {},
   "outputs": [
    {
     "name": "stdout",
     "output_type": "stream",
     "text": [
      "[2, 1, 4, 3, 5]\n"
     ]
    }
   ],
   "source": [
    "#Example 1:\n",
    "#Input : n = 5, arr = [1,2,3,4,5]\n",
    "#utput : 2 1 4 3 5\n",
    "#Explanation: Array elements after sorting it in wave form are 2 1 4 3 5.\n",
    "\n",
    "arr = [1,2,3,4,5]\n",
    "\n",
    "def wave_arr(arr):\n",
    "    n = len(arr)\n",
    "    \n",
    "    for i in range(0, n-1, 2):\n",
    "        arr[i], arr[i+1] = arr[i+1], arr[i]\n",
    "        \n",
    "    return arr\n",
    "print(wave_arr(arr))"
   ]
  },
  {
   "cell_type": "code",
   "execution_count": 9,
   "metadata": {},
   "outputs": [
    {
     "name": "stdout",
     "output_type": "stream",
     "text": [
      "[4, 2, 8, 7, 10, 9]\n"
     ]
    }
   ],
   "source": [
    "#Example 2:\n",
    "#Input: n = 6 arr = [2,4,7,8,9,10]\n",
    "#Output: 4 2 8 7 10 9\n",
    "\n",
    "arr = [2,4,7,8,9,10]\n",
    "\n",
    "def wave_arr(arr):\n",
    "    n = len(arr)\n",
    "    \n",
    "    for i in range(0, n-1, 2):\n",
    "        arr[i], arr[i+1] = arr[i+1], arr[i]\n",
    "        \n",
    "    return arr\n",
    "print(wave_arr(arr))"
   ]
  }
 ],
 "metadata": {
  "kernelspec": {
   "display_name": "Python 3",
   "language": "python",
   "name": "python3"
  },
  "language_info": {
   "codemirror_mode": {
    "name": "ipython",
    "version": 3
   },
   "file_extension": ".py",
   "mimetype": "text/x-python",
   "name": "python",
   "nbconvert_exporter": "python",
   "pygments_lexer": "ipython3",
   "version": "3.11.5"
  }
 },
 "nbformat": 4,
 "nbformat_minor": 2
}
