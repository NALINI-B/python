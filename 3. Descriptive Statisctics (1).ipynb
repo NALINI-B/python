{
 "cells": [
  {
   "cell_type": "markdown",
   "metadata": {},
   "source": [
    "## Descriptive statistics\n",
    "\n",
    "Descriptive Statistics, provides a summary of your dataset giving a measure of the centre, dispersion and shape of your data. Here the data is described as a sample of the whole population, and there are no inferences made from the sample to the whole population, unlike Inferential Statistics, in which we model the data on the basis of probability theory.\n",
    "\n",
    "## Key Elements of Descriptive Statistics\n",
    "\n",
    "### Measures Of Central Tendency\n",
    "\n",
    "* Mean\n",
    "* Median\n",
    "* Mode\n",
    "\n",
    "### Measures Of Spread\n",
    "\n",
    "* Range\n",
    "* Outliers\n",
    "* Interquantile Range\n",
    "* Variance\n",
    "\n",
    "### Dependence\n",
    "\n",
    "* Correlation v/s Causation\n",
    "* Covariance\n",
    "\n",
    "<img src=\"Images/statistics.jpeg\" width=\"700\" height=\"400\">"
   ]
  },
  {
   "cell_type": "markdown",
   "metadata": {},
   "source": [
    "## Descritive Statistics"
   ]
  },
  {
   "cell_type": "markdown",
   "metadata": {},
   "source": [
    "### Central tendency values\n",
    "The measure of central tendency refers to a single value that summarizes or describes a dataset. It indicates where most of the values within a distribution lie, which is why it is the central location of a distribution. This central tendency measure is a single number representing the entire population distribution. The most critical measures of location or central tendency are mean, median, and mode."
   ]
  },
  {
   "cell_type": "markdown",
   "metadata": {},
   "source": [
    "#### Mean\n",
    "Mean is defined by the formula: Summation of all observations in a dataset divided by Total number of observations in that dataset. In mathematics, it is also called Average.\n",
    "$$ Mean = \\frac{Sum~of~all~observations}{No~of~observations}$$"
   ]
  },
  {
   "cell_type": "markdown",
   "metadata": {},
   "source": [
    "##### Disadvantage of Mean\n",
    "\n",
    "* Finding mean is not a good approach as the 'Mean is often affected by Outliers' or in simple words if there are some observations larger or smaller than majority of the other observations then the mean tends to deviate towards these values.\n",
    "\n",
    "* To generalize it if the distribution of datasets is skewed(troubled by outliers), we do not choose mean. Here we will have to go for Median."
   ]
  },
  {
   "cell_type": "code",
   "execution_count": 1,
   "metadata": {},
   "outputs": [
    {
     "name": "stdout",
     "output_type": "stream",
     "text": [
      "Requirement already satisfied: pandas in c:\\users\\hp\\appdata\\local\\programs\\python\\python312\\lib\\site-packages (2.2.1)\n",
      "Requirement already satisfied: numpy<2,>=1.26.0 in c:\\users\\hp\\appdata\\local\\programs\\python\\python312\\lib\\site-packages (from pandas) (1.26.4)\n",
      "Requirement already satisfied: python-dateutil>=2.8.2 in c:\\users\\hp\\appdata\\local\\programs\\python\\python312\\lib\\site-packages (from pandas) (2.9.0.post0)\n",
      "Requirement already satisfied: pytz>=2020.1 in c:\\users\\hp\\appdata\\local\\programs\\python\\python312\\lib\\site-packages (from pandas) (2024.1)\n",
      "Requirement already satisfied: tzdata>=2022.7 in c:\\users\\hp\\appdata\\local\\programs\\python\\python312\\lib\\site-packages (from pandas) (2024.1)\n",
      "Requirement already satisfied: six>=1.5 in c:\\users\\hp\\appdata\\local\\programs\\python\\python312\\lib\\site-packages (from python-dateutil>=2.8.2->pandas) (1.16.0)\n"
     ]
    },
    {
     "name": "stderr",
     "output_type": "stream",
     "text": [
      "\n",
      "[notice] A new release of pip is available: 24.0 -> 24.1.2\n",
      "[notice] To update, run: python.exe -m pip install --upgrade pip\n"
     ]
    }
   ],
   "source": [
    "!pip install pandas\n",
    "#!pip install numpy\n",
    "#!pip install matplotlib\n",
    "#!pip install seaborn"
   ]
  },
  {
   "cell_type": "code",
   "execution_count": 2,
   "metadata": {},
   "outputs": [],
   "source": [
    "# Read and mathematical operations\n",
    "import pandas as pd\n",
    "import numpy as np\n",
    "\n",
    "# Visualization\n",
    "import matplotlib.pyplot as plt\n",
    "import seaborn as sns"
   ]
  },
  {
   "cell_type": "code",
   "execution_count": 3,
   "metadata": {},
   "outputs": [],
   "source": [
    "data = pd.read_csv('insurance.csv')"
   ]
  },
  {
   "cell_type": "code",
   "execution_count": 4,
   "metadata": {},
   "outputs": [
    {
     "data": {
      "text/plain": [
       "age           int64\n",
       "sex          object\n",
       "bmi         float64\n",
       "children      int64\n",
       "smoker       object\n",
       "region       object\n",
       "charges     float64\n",
       "dtype: object"
      ]
     },
     "execution_count": 4,
     "metadata": {},
     "output_type": "execute_result"
    }
   ],
   "source": [
    "# datatypes of columns\n",
    "data.dtypes"
   ]
  },
  {
   "cell_type": "code",
   "execution_count": 5,
   "metadata": {},
   "outputs": [
    {
     "data": {
      "text/html": [
       "<div>\n",
       "<style scoped>\n",
       "    .dataframe tbody tr th:only-of-type {\n",
       "        vertical-align: middle;\n",
       "    }\n",
       "\n",
       "    .dataframe tbody tr th {\n",
       "        vertical-align: top;\n",
       "    }\n",
       "\n",
       "    .dataframe thead th {\n",
       "        text-align: right;\n",
       "    }\n",
       "</style>\n",
       "<table border=\"1\" class=\"dataframe\">\n",
       "  <thead>\n",
       "    <tr style=\"text-align: right;\">\n",
       "      <th></th>\n",
       "      <th>age</th>\n",
       "      <th>sex</th>\n",
       "      <th>bmi</th>\n",
       "      <th>children</th>\n",
       "      <th>smoker</th>\n",
       "      <th>region</th>\n",
       "      <th>charges</th>\n",
       "    </tr>\n",
       "  </thead>\n",
       "  <tbody>\n",
       "    <tr>\n",
       "      <th>64</th>\n",
       "      <td>20</td>\n",
       "      <td>female</td>\n",
       "      <td>22.420</td>\n",
       "      <td>0</td>\n",
       "      <td>yes</td>\n",
       "      <td>northwest</td>\n",
       "      <td>14711.74380</td>\n",
       "    </tr>\n",
       "    <tr>\n",
       "      <th>105</th>\n",
       "      <td>20</td>\n",
       "      <td>male</td>\n",
       "      <td>28.025</td>\n",
       "      <td>1</td>\n",
       "      <td>yes</td>\n",
       "      <td>northwest</td>\n",
       "      <td>17560.37975</td>\n",
       "    </tr>\n",
       "    <tr>\n",
       "      <th>122</th>\n",
       "      <td>20</td>\n",
       "      <td>female</td>\n",
       "      <td>28.975</td>\n",
       "      <td>0</td>\n",
       "      <td>no</td>\n",
       "      <td>northwest</td>\n",
       "      <td>2257.47525</td>\n",
       "    </tr>\n",
       "    <tr>\n",
       "      <th>134</th>\n",
       "      <td>20</td>\n",
       "      <td>female</td>\n",
       "      <td>28.785</td>\n",
       "      <td>0</td>\n",
       "      <td>no</td>\n",
       "      <td>northeast</td>\n",
       "      <td>2457.21115</td>\n",
       "    </tr>\n",
       "    <tr>\n",
       "      <th>166</th>\n",
       "      <td>20</td>\n",
       "      <td>female</td>\n",
       "      <td>37.000</td>\n",
       "      <td>5</td>\n",
       "      <td>no</td>\n",
       "      <td>southwest</td>\n",
       "      <td>4830.63000</td>\n",
       "    </tr>\n",
       "    <tr>\n",
       "      <th>210</th>\n",
       "      <td>20</td>\n",
       "      <td>male</td>\n",
       "      <td>33.000</td>\n",
       "      <td>1</td>\n",
       "      <td>no</td>\n",
       "      <td>southwest</td>\n",
       "      <td>1980.07000</td>\n",
       "    </tr>\n",
       "    <tr>\n",
       "      <th>261</th>\n",
       "      <td>20</td>\n",
       "      <td>female</td>\n",
       "      <td>26.840</td>\n",
       "      <td>1</td>\n",
       "      <td>yes</td>\n",
       "      <td>southeast</td>\n",
       "      <td>17085.26760</td>\n",
       "    </tr>\n",
       "    <tr>\n",
       "      <th>374</th>\n",
       "      <td>20</td>\n",
       "      <td>male</td>\n",
       "      <td>33.330</td>\n",
       "      <td>0</td>\n",
       "      <td>no</td>\n",
       "      <td>southeast</td>\n",
       "      <td>1391.52870</td>\n",
       "    </tr>\n",
       "    <tr>\n",
       "      <th>453</th>\n",
       "      <td>20</td>\n",
       "      <td>male</td>\n",
       "      <td>29.735</td>\n",
       "      <td>0</td>\n",
       "      <td>no</td>\n",
       "      <td>northwest</td>\n",
       "      <td>1769.53165</td>\n",
       "    </tr>\n",
       "    <tr>\n",
       "      <th>495</th>\n",
       "      <td>20</td>\n",
       "      <td>male</td>\n",
       "      <td>27.930</td>\n",
       "      <td>0</td>\n",
       "      <td>no</td>\n",
       "      <td>northeast</td>\n",
       "      <td>1967.02270</td>\n",
       "    </tr>\n",
       "    <tr>\n",
       "      <th>516</th>\n",
       "      <td>20</td>\n",
       "      <td>male</td>\n",
       "      <td>35.310</td>\n",
       "      <td>1</td>\n",
       "      <td>no</td>\n",
       "      <td>southeast</td>\n",
       "      <td>27724.28875</td>\n",
       "    </tr>\n",
       "    <tr>\n",
       "      <th>541</th>\n",
       "      <td>20</td>\n",
       "      <td>female</td>\n",
       "      <td>31.790</td>\n",
       "      <td>2</td>\n",
       "      <td>no</td>\n",
       "      <td>southeast</td>\n",
       "      <td>3056.38810</td>\n",
       "    </tr>\n",
       "    <tr>\n",
       "      <th>592</th>\n",
       "      <td>20</td>\n",
       "      <td>male</td>\n",
       "      <td>31.130</td>\n",
       "      <td>2</td>\n",
       "      <td>no</td>\n",
       "      <td>southeast</td>\n",
       "      <td>2566.47070</td>\n",
       "    </tr>\n",
       "    <tr>\n",
       "      <th>614</th>\n",
       "      <td>20</td>\n",
       "      <td>female</td>\n",
       "      <td>33.000</td>\n",
       "      <td>0</td>\n",
       "      <td>no</td>\n",
       "      <td>southeast</td>\n",
       "      <td>1880.07000</td>\n",
       "    </tr>\n",
       "    <tr>\n",
       "      <th>692</th>\n",
       "      <td>20</td>\n",
       "      <td>male</td>\n",
       "      <td>32.395</td>\n",
       "      <td>1</td>\n",
       "      <td>no</td>\n",
       "      <td>northwest</td>\n",
       "      <td>2362.22905</td>\n",
       "    </tr>\n",
       "    <tr>\n",
       "      <th>713</th>\n",
       "      <td>20</td>\n",
       "      <td>male</td>\n",
       "      <td>40.470</td>\n",
       "      <td>0</td>\n",
       "      <td>no</td>\n",
       "      <td>northeast</td>\n",
       "      <td>1984.45330</td>\n",
       "    </tr>\n",
       "    <tr>\n",
       "      <th>815</th>\n",
       "      <td>20</td>\n",
       "      <td>female</td>\n",
       "      <td>31.460</td>\n",
       "      <td>0</td>\n",
       "      <td>no</td>\n",
       "      <td>southeast</td>\n",
       "      <td>1877.92940</td>\n",
       "    </tr>\n",
       "    <tr>\n",
       "      <th>855</th>\n",
       "      <td>20</td>\n",
       "      <td>female</td>\n",
       "      <td>29.600</td>\n",
       "      <td>0</td>\n",
       "      <td>no</td>\n",
       "      <td>southwest</td>\n",
       "      <td>1875.34400</td>\n",
       "    </tr>\n",
       "    <tr>\n",
       "      <th>984</th>\n",
       "      <td>20</td>\n",
       "      <td>male</td>\n",
       "      <td>30.115</td>\n",
       "      <td>5</td>\n",
       "      <td>no</td>\n",
       "      <td>northeast</td>\n",
       "      <td>4915.05985</td>\n",
       "    </tr>\n",
       "    <tr>\n",
       "      <th>1042</th>\n",
       "      <td>20</td>\n",
       "      <td>male</td>\n",
       "      <td>30.685</td>\n",
       "      <td>0</td>\n",
       "      <td>yes</td>\n",
       "      <td>northeast</td>\n",
       "      <td>33475.81715</td>\n",
       "    </tr>\n",
       "    <tr>\n",
       "      <th>1147</th>\n",
       "      <td>20</td>\n",
       "      <td>female</td>\n",
       "      <td>31.920</td>\n",
       "      <td>0</td>\n",
       "      <td>no</td>\n",
       "      <td>northwest</td>\n",
       "      <td>2261.56880</td>\n",
       "    </tr>\n",
       "    <tr>\n",
       "      <th>1158</th>\n",
       "      <td>20</td>\n",
       "      <td>female</td>\n",
       "      <td>30.590</td>\n",
       "      <td>0</td>\n",
       "      <td>no</td>\n",
       "      <td>northeast</td>\n",
       "      <td>2459.72010</td>\n",
       "    </tr>\n",
       "    <tr>\n",
       "      <th>1186</th>\n",
       "      <td>20</td>\n",
       "      <td>male</td>\n",
       "      <td>35.625</td>\n",
       "      <td>3</td>\n",
       "      <td>yes</td>\n",
       "      <td>northwest</td>\n",
       "      <td>37465.34375</td>\n",
       "    </tr>\n",
       "    <tr>\n",
       "      <th>1223</th>\n",
       "      <td>20</td>\n",
       "      <td>female</td>\n",
       "      <td>24.420</td>\n",
       "      <td>0</td>\n",
       "      <td>yes</td>\n",
       "      <td>southeast</td>\n",
       "      <td>26125.67477</td>\n",
       "    </tr>\n",
       "    <tr>\n",
       "      <th>1231</th>\n",
       "      <td>20</td>\n",
       "      <td>female</td>\n",
       "      <td>21.800</td>\n",
       "      <td>0</td>\n",
       "      <td>yes</td>\n",
       "      <td>southwest</td>\n",
       "      <td>20167.33603</td>\n",
       "    </tr>\n",
       "    <tr>\n",
       "      <th>1252</th>\n",
       "      <td>20</td>\n",
       "      <td>male</td>\n",
       "      <td>27.300</td>\n",
       "      <td>0</td>\n",
       "      <td>yes</td>\n",
       "      <td>southwest</td>\n",
       "      <td>16232.84700</td>\n",
       "    </tr>\n",
       "    <tr>\n",
       "      <th>1268</th>\n",
       "      <td>20</td>\n",
       "      <td>female</td>\n",
       "      <td>33.300</td>\n",
       "      <td>0</td>\n",
       "      <td>no</td>\n",
       "      <td>southwest</td>\n",
       "      <td>1880.48700</td>\n",
       "    </tr>\n",
       "    <tr>\n",
       "      <th>1288</th>\n",
       "      <td>20</td>\n",
       "      <td>male</td>\n",
       "      <td>39.400</td>\n",
       "      <td>2</td>\n",
       "      <td>yes</td>\n",
       "      <td>southwest</td>\n",
       "      <td>38344.56600</td>\n",
       "    </tr>\n",
       "    <tr>\n",
       "      <th>1295</th>\n",
       "      <td>20</td>\n",
       "      <td>male</td>\n",
       "      <td>22.000</td>\n",
       "      <td>1</td>\n",
       "      <td>no</td>\n",
       "      <td>southwest</td>\n",
       "      <td>1964.78000</td>\n",
       "    </tr>\n",
       "  </tbody>\n",
       "</table>\n",
       "</div>"
      ],
      "text/plain": [
       "      age     sex     bmi  children smoker     region      charges\n",
       "64     20  female  22.420         0    yes  northwest  14711.74380\n",
       "105    20    male  28.025         1    yes  northwest  17560.37975\n",
       "122    20  female  28.975         0     no  northwest   2257.47525\n",
       "134    20  female  28.785         0     no  northeast   2457.21115\n",
       "166    20  female  37.000         5     no  southwest   4830.63000\n",
       "210    20    male  33.000         1     no  southwest   1980.07000\n",
       "261    20  female  26.840         1    yes  southeast  17085.26760\n",
       "374    20    male  33.330         0     no  southeast   1391.52870\n",
       "453    20    male  29.735         0     no  northwest   1769.53165\n",
       "495    20    male  27.930         0     no  northeast   1967.02270\n",
       "516    20    male  35.310         1     no  southeast  27724.28875\n",
       "541    20  female  31.790         2     no  southeast   3056.38810\n",
       "592    20    male  31.130         2     no  southeast   2566.47070\n",
       "614    20  female  33.000         0     no  southeast   1880.07000\n",
       "692    20    male  32.395         1     no  northwest   2362.22905\n",
       "713    20    male  40.470         0     no  northeast   1984.45330\n",
       "815    20  female  31.460         0     no  southeast   1877.92940\n",
       "855    20  female  29.600         0     no  southwest   1875.34400\n",
       "984    20    male  30.115         5     no  northeast   4915.05985\n",
       "1042   20    male  30.685         0    yes  northeast  33475.81715\n",
       "1147   20  female  31.920         0     no  northwest   2261.56880\n",
       "1158   20  female  30.590         0     no  northeast   2459.72010\n",
       "1186   20    male  35.625         3    yes  northwest  37465.34375\n",
       "1223   20  female  24.420         0    yes  southeast  26125.67477\n",
       "1231   20  female  21.800         0    yes  southwest  20167.33603\n",
       "1252   20    male  27.300         0    yes  southwest  16232.84700\n",
       "1268   20  female  33.300         0     no  southwest   1880.48700\n",
       "1288   20    male  39.400         2    yes  southwest  38344.56600\n",
       "1295   20    male  22.000         1     no  southwest   1964.78000"
      ]
     },
     "execution_count": 5,
     "metadata": {},
     "output_type": "execute_result"
    }
   ],
   "source": [
    "# Filtering observations\n",
    "data[data['smoker'] == 'yes']\n",
    "\n",
    "# filter people with age 20\n",
    "data[data['age'] == 20]"
   ]
  },
  {
   "cell_type": "code",
   "execution_count": 6,
   "metadata": {},
   "outputs": [
    {
     "data": {
      "text/html": [
       "<div>\n",
       "<style scoped>\n",
       "    .dataframe tbody tr th:only-of-type {\n",
       "        vertical-align: middle;\n",
       "    }\n",
       "\n",
       "    .dataframe tbody tr th {\n",
       "        vertical-align: top;\n",
       "    }\n",
       "\n",
       "    .dataframe thead th {\n",
       "        text-align: right;\n",
       "    }\n",
       "</style>\n",
       "<table border=\"1\" class=\"dataframe\">\n",
       "  <thead>\n",
       "    <tr style=\"text-align: right;\">\n",
       "      <th></th>\n",
       "      <th>age</th>\n",
       "      <th>bmi</th>\n",
       "      <th>children</th>\n",
       "      <th>charges</th>\n",
       "    </tr>\n",
       "  </thead>\n",
       "  <tbody>\n",
       "    <tr>\n",
       "      <th>count</th>\n",
       "      <td>1338.000000</td>\n",
       "      <td>1338.000000</td>\n",
       "      <td>1338.000000</td>\n",
       "      <td>1338.000000</td>\n",
       "    </tr>\n",
       "    <tr>\n",
       "      <th>mean</th>\n",
       "      <td>39.207025</td>\n",
       "      <td>30.663397</td>\n",
       "      <td>1.094918</td>\n",
       "      <td>13270.422265</td>\n",
       "    </tr>\n",
       "    <tr>\n",
       "      <th>std</th>\n",
       "      <td>14.049960</td>\n",
       "      <td>6.098187</td>\n",
       "      <td>1.205493</td>\n",
       "      <td>12110.011237</td>\n",
       "    </tr>\n",
       "    <tr>\n",
       "      <th>min</th>\n",
       "      <td>18.000000</td>\n",
       "      <td>15.960000</td>\n",
       "      <td>0.000000</td>\n",
       "      <td>1121.873900</td>\n",
       "    </tr>\n",
       "    <tr>\n",
       "      <th>25%</th>\n",
       "      <td>27.000000</td>\n",
       "      <td>26.296250</td>\n",
       "      <td>0.000000</td>\n",
       "      <td>4740.287150</td>\n",
       "    </tr>\n",
       "    <tr>\n",
       "      <th>50%</th>\n",
       "      <td>39.000000</td>\n",
       "      <td>30.400000</td>\n",
       "      <td>1.000000</td>\n",
       "      <td>9382.033000</td>\n",
       "    </tr>\n",
       "    <tr>\n",
       "      <th>75%</th>\n",
       "      <td>51.000000</td>\n",
       "      <td>34.693750</td>\n",
       "      <td>2.000000</td>\n",
       "      <td>16639.912515</td>\n",
       "    </tr>\n",
       "    <tr>\n",
       "      <th>max</th>\n",
       "      <td>64.000000</td>\n",
       "      <td>53.130000</td>\n",
       "      <td>5.000000</td>\n",
       "      <td>63770.428010</td>\n",
       "    </tr>\n",
       "  </tbody>\n",
       "</table>\n",
       "</div>"
      ],
      "text/plain": [
       "               age          bmi     children       charges\n",
       "count  1338.000000  1338.000000  1338.000000   1338.000000\n",
       "mean     39.207025    30.663397     1.094918  13270.422265\n",
       "std      14.049960     6.098187     1.205493  12110.011237\n",
       "min      18.000000    15.960000     0.000000   1121.873900\n",
       "25%      27.000000    26.296250     0.000000   4740.287150\n",
       "50%      39.000000    30.400000     1.000000   9382.033000\n",
       "75%      51.000000    34.693750     2.000000  16639.912515\n",
       "max      64.000000    53.130000     5.000000  63770.428010"
      ]
     },
     "execution_count": 6,
     "metadata": {},
     "output_type": "execute_result"
    }
   ],
   "source": [
    "data.describe()"
   ]
  },
  {
   "cell_type": "code",
   "execution_count": 7,
   "metadata": {},
   "outputs": [
    {
     "name": "stdout",
     "output_type": "stream",
     "text": [
      "18.0\n"
     ]
    }
   ],
   "source": [
    "l = [1,2,3,4,5,9,81,2,6,3,99,1]\n",
    "n = np.array(l)\n",
    "\n",
    "# Computing Mean\n",
    "#print(np.mean(n))\n",
    "#print(n.mean())\n",
    "\n",
    "print(sum(l)/len(l))"
   ]
  },
  {
   "cell_type": "code",
   "execution_count": 8,
   "metadata": {},
   "outputs": [],
   "source": [
    "import pandas as pd"
   ]
  },
  {
   "cell_type": "code",
   "execution_count": 9,
   "metadata": {},
   "outputs": [
    {
     "name": "stdout",
     "output_type": "stream",
     "text": [
      "   weights   x\n",
      "0      0.4   8\n",
      "1      0.6   9\n",
      "2      0.9  12\n",
      "3      0.2  41\n",
      "13.142857142857142\n"
     ]
    }
   ],
   "source": [
    "# Exercise\n",
    "\n",
    "# Explore what weighted mean is and compute it for the following\n",
    "import pandas as pd     #using pandas\n",
    "data={\n",
    "'weights' : [0.4, 0.6, 0.9, 0.2],\n",
    "'x' : [8, 9, 12, 41]\n",
    "}\n",
    "df = pd.DataFrame(data)\n",
    "print(df)\n",
    "# compute weighted mean\n",
    "weighted_mean = sum(df['weights']*df['x'])/sum(df['weights'])\n",
    "print(weighted_mean)\n",
    "\n"
   ]
  },
  {
   "cell_type": "code",
   "execution_count": 10,
   "metadata": {},
   "outputs": [
    {
     "name": "stdout",
     "output_type": "stream",
     "text": [
      "      age     sex     bmi  children smoker     region      charges\n",
      "0      19  female  27.900         0    yes  southwest  16884.92400\n",
      "1      18    male  33.770         1     no  southeast   1725.55230\n",
      "2      28    male  33.000         3     no  southeast   4449.46200\n",
      "3      33    male  22.705         0     no  northwest  21984.47061\n",
      "4      32    male  28.880         0     no  northwest   3866.85520\n",
      "...   ...     ...     ...       ...    ...        ...          ...\n",
      "1333   50    male  30.970         3     no  northwest  10600.54830\n",
      "1334   18  female  31.920         0     no  northeast   2205.98080\n",
      "1335   18  female  36.850         0     no  southeast   1629.83350\n",
      "1336   21  female  25.800         0     no  southwest   2007.94500\n",
      "1337   61  female  29.070         0    yes  northwest  29141.36030\n",
      "\n",
      "[1338 rows x 7 columns]\n",
      "   age     sex     bmi  children smoker     region      charges\n",
      "0   19  female  27.900         0    yes  southwest  16884.92400\n",
      "1   18    male  33.770         1     no  southeast   1725.55230\n",
      "2   28    male  33.000         3     no  southeast   4449.46200\n",
      "3   33    male  22.705         0     no  northwest  21984.47061\n",
      "4   32    male  28.880         0     no  northwest   3866.85520\n",
      "Average Age: 39.20702541106129\n",
      "Average BMI: 30.66339686098655\n",
      "Average Charges: 13270.422265141257\n"
     ]
    }
   ],
   "source": [
    "# Compute average age, BMI, and charges\n",
    "import pandas as pd\n",
    "df = pd.read_csv(\"insurance.csv\")\n",
    "print(df)\n",
    "print(df.head())\n",
    "\n",
    "average_age = df[\"age\"].mean()\n",
    "average_bmi = df[\"bmi\"].mean()\n",
    "average_charges = df[\"charges\"].mean()\n",
    "print(f\"Average Age: {average_age}\")\n",
    "print(f\"Average BMI: {average_bmi}\")\n",
    "print(f\"Average Charges: {average_charges}\")"
   ]
  },
  {
   "cell_type": "markdown",
   "metadata": {},
   "source": [
    "#### Median\n",
    "The median is the middle value present within data when the data is arranged in ascending/descending order\n"
   ]
  },
  {
   "cell_type": "code",
   "execution_count": 11,
   "metadata": {},
   "outputs": [
    {
     "data": {
      "text/plain": [
       "30.4"
      ]
     },
     "execution_count": 11,
     "metadata": {},
     "output_type": "execute_result"
    }
   ],
   "source": [
    "import numpy as np\n",
    "data = pd.read_csv('insurance.csv')\n",
    "np.median(data['bmi'])\n",
    "data['bmi'].median()"
   ]
  },
  {
   "cell_type": "code",
   "execution_count": 4,
   "metadata": {},
   "outputs": [
    {
     "name": "stdout",
     "output_type": "stream",
     "text": [
      "Mean Values:\n",
      "age           39.207025\n",
      "bmi           30.663397\n",
      "charges    13270.422265\n",
      "dtype: float64\n",
      "\n",
      "Median Values:\n",
      "age          39.000\n",
      "bmi          30.400\n",
      "charges    9382.033\n",
      "dtype: float64\n",
      "\n",
      "Comparison of Mean and Median Values:\n",
      "                 Mean    Median\n",
      "age         39.207025    39.000\n",
      "bmi         30.663397    30.400\n",
      "charges  13270.422265  9382.033\n"
     ]
    }
   ],
   "source": [
    "# Compute median of age, BMI, and charges and compare them with mean values.\n",
    "\n",
    "import pandas as pd\n",
    "\n",
    "# Load the CSV file\n",
    "#file_path = 'data/insurance.csv'\n",
    "#data = pd.read_csv(file_path)\n",
    "\n",
    "# Compute the mean values of age, BMI, and charges\n",
    "mean_values = data[['age', 'bmi', 'charges']].mean()\n",
    "\n",
    "# Compute the median values of age, BMI, and charges\n",
    "median_values = data[['age', 'bmi', 'charges']].median()\n",
    "\n",
    "# Display the results\n",
    "print(\"Mean Values:\")\n",
    "print(mean_values)\n",
    "print(\"\\nMedian Values:\")\n",
    "print(median_values)\n",
    "\n",
    "# Comparison\n",
    "comparison = pd.DataFrame({'Mean': mean_values, 'Median': median_values})\n",
    "print(\"\\nComparison of Mean and Median Values:\")\n",
    "print(comparison)\n"
   ]
  },
  {
   "cell_type": "markdown",
   "metadata": {},
   "source": [
    "#### \n",
    "Median and Inter Quartile Range (IQR)\n",
    "The dataset can be divided into four parts in quartiles, each containing approximately 25% or 1/4th of the observations. These division points are referred to as Quartiles and are defined as:\n",
    "\n",
    "* **Q1**: first quartile or 25th percentile. It comprises the lowest 25% of the observations.\n",
    "* **Q2**: second quartile or 50th percentile. It is also known as the median, containing 0% to 50% of the observations.\n",
    "* **Q3**: third quartile or 75th percentile. It consists of 0% to 75% of the observations.\n",
    "* **Q4**: fourth quartile or 25th percentile. It has the highest 25% of the observations.\n",
    "\n",
    "<img src=\"Images/Quartiles.png\" width=\"500\" height=\"250\">"
   ]
  },
  {
   "cell_type": "markdown",
   "metadata": {},
   "source": [
    "#### Five-point Summary\n",
    "\n",
    "Five-point summary is a measure that summarizes the center, location, and shape of the data. The five-point summary is:\n",
    "\n",
    "1. Minimum value (the smallest observation in the data)\n",
    "2. First Quartile (Q1)\n",
    "3. Second Quartile (Median or Q2)\n",
    "4. Third Quartile (Q3)\n",
    "5. Maximum value (the largest observation in the data)"
   ]
  },
  {
   "cell_type": "code",
   "execution_count": 6,
   "metadata": {},
   "outputs": [
    {
     "name": "stdout",
     "output_type": "stream",
     "text": [
      "five point summary for age, BMI, and charge\n",
      "      age     bmi      charges\n",
      "0      19  27.900  16884.92400\n",
      "1      18  33.770   1725.55230\n",
      "2      28  33.000   4449.46200\n",
      "3      33  22.705  21984.47061\n",
      "4      32  28.880   3866.85520\n",
      "...   ...     ...          ...\n",
      "1333   50  30.970  10600.54830\n",
      "1334   18  31.920   2205.98080\n",
      "1335   18  36.850   1629.83350\n",
      "1336   21  25.800   2007.94500\n",
      "1337   61  29.070  29141.36030\n",
      "\n",
      "[1338 rows x 3 columns]\n"
     ]
    }
   ],
   "source": [
    "# Create a five point summary for age, BMI, and charges and print them.\n",
    "import pandas as pd\n",
    "#import numpy as np\n",
    "\n",
    "# Read the CSV file into a DataFrame\n",
    "#data = pd.read_csv('insurance.csv')\n",
    "#print(data)\n",
    "\"\"\"print(data['age'].min())\n",
    "print(data['bmi'].min())\n",
    "print(data['charges'].min())\"\"\"\n",
    "summary = data[['age','bmi','charges']]\n",
    "\n",
    "print(\"five point summary for age, BMI, and charge\")\n",
    "print(summary)\n"
   ]
  },
  {
   "cell_type": "markdown",
   "metadata": {},
   "source": [
    "#### Outliers and Box Plots\n",
    "An outlier is an observation that lies an abnormal distance from other values in a random sample from a population. A box plot is constructed by drawing a box between the upper and lower quartiles with a solid line drawn across the box to locate the median. The following quantities (called fences) are needed for identifying extreme values in the tails of the distribution:\n",
    "* lower inner fence: Q1 - 1.5*IQ\n",
    "* upper inner fence: Q3 + 1.5*IQ\n",
    "* lower outer fence: Q1 - 3*IQ\n",
    "* upper outer fence: Q3 + 3*IQ\n",
    "\n",
    "Points outside these fences can be considered as outliers."
   ]
  },
  {
   "cell_type": "code",
   "execution_count": 3,
   "metadata": {},
   "outputs": [
    {
     "name": "stdout",
     "output_type": "stream",
     "text": [
      "Five-Point Summary for Age, BMI, and Charges:\n",
      "      age       bmi       charges\n",
      "min  18.0  15.96000   1121.873900\n",
      "25%  27.0  26.29625   4740.287150\n",
      "50%  39.0  30.40000   9382.033000\n",
      "75%  51.0  34.69375  16639.912515\n",
      "max  64.0  53.13000  63770.428010\n",
      "\n",
      "Inner Fences for Age, BMI, and Charges:\n",
      "                Lower         Upper\n",
      "age         -9.000000     87.000000\n",
      "bmi         13.700000     47.290000\n",
      "charges -13109.150897  34489.350562\n",
      "\n",
      "Outer Fences for Age, BMI, and Charges:\n",
      "                Lower        Upper\n",
      "age        -45.000000    123.00000\n",
      "bmi          1.103750     59.88625\n",
      "charges -30958.588945  52338.78861\n"
     ]
    }
   ],
   "source": [
    "\n",
    "import pandas as pd\n",
    "\n",
    "#Load the CSV file\n",
    "\n",
    "data = pd.read_csv('insurance.csv')\n",
    "\n",
    "\n",
    "# Compute the quartiles and interquartile range (IQR) for age, BMI, and charges\n",
    "quartiles = data[['age', 'bmi', 'charges']].quantile([0.25, 0.5, 0.75])\n",
    "IQR = quartiles.loc[0.75] - quartiles.loc[0.25]\n",
    "\n",
    "# Compute the inner and outer fences\n",
    "inner_fences = {\n",
    "    'Lower': quartiles.loc[0.25] - 1.5 * IQR,\n",
    "    'Upper': quartiles.loc[0.75] + 1.5 * IQR\n",
    "}\n",
    "\n",
    "outer_fences = {\n",
    "    'Lower': quartiles.loc[0.25] - 3 * IQR,\n",
    "    'Upper': quartiles.loc[0.75] + 3 * IQR\n",
    "}\n",
    "\n",
    "# Display the results\n",
    "print(\"Five-Point Summary for Age, BMI, and Charges:\")\n",
    "print(data[['age', 'bmi', 'charges']].describe().loc[['min', '25%', '50%', '75%', 'max']])\n",
    "print(\"\\nInner Fences for Age, BMI, and Charges:\")\n",
    "print(pd.DataFrame(inner_fences))\n",
    "\n",
    "print(\"\\nOuter Fences for Age, BMI, and Charges:\")\n",
    "print(pd.DataFrame(outer_fences))"
   ]
  },
  {
   "cell_type": "markdown",
   "metadata": {},
   "source": [
    "#### Mode\n",
    "The Mode occurs most often, i.e., the value with the maximum frequency of occurrence."
   ]
  },
  {
   "cell_type": "code",
   "execution_count": 19,
   "metadata": {},
   "outputs": [
    {
     "name": "stdout",
     "output_type": "stream",
     "text": [
      "Custom Function Mode Values:\n",
      "Age: 18, BMI: 32.3, Charges: 1639.5631\n",
      "\n",
      "SciPy Mode Values:\n",
      "Age: 18, BMI: 32.3, Charges: 1639.5631\n"
     ]
    }
   ],
   "source": [
    "# Exercise\n",
    "# Numpy doesn't have a predefined function for Mode. \n",
    "# Please create a custome function to compute mode.\n",
    "import numpy as np\n",
    "from scipy.stats import mode as scipy_mode\n",
    "\n",
    "data = 'data/insurance.csv'\n",
    "data = pd.read_csv('insurance.csv')\n",
    "\n",
    "def mode(numpy_array):\n",
    "    values, counts = np.unique(numpy_array, return_counts=True)\n",
    "    max_count_index = np.argmax(counts)\n",
    "    return values[max_count_index]\n",
    "\n",
    "mode(data['age'])\n",
    "\n",
    "# scipy library has a predefined function for mode. \n",
    "# Search internet, import the specific function from scipy library and compute mode.\n",
    "\n",
    "\n",
    "# Compute mode values using custom function\n",
    "mode_age_custom = mode(data['age'].to_numpy())\n",
    "mode_bmi_custom = mode(data['bmi'].to_numpy())\n",
    "mode_charges_custom = mode(data['charges'].to_numpy())\n",
    "\n",
    "# Compute mode values using scipy\n",
    "mode_age_scipy = scipy_mode(data['age']).mode\n",
    "mode_bmi_scipy = scipy_mode(data['bmi']).mode\n",
    "mode_charges_scipy = scipy_mode(data['charges']).mode\n",
    "\n",
    "# Display the results\n",
    "print(\"Custom Function Mode Values:\")\n",
    "print(f\"Age: {mode_age_custom}, BMI: {mode_bmi_custom}, Charges: {mode_charges_custom}\")\n",
    "\n",
    "print(\"\\nSciPy Mode Values:\")\n",
    "print(f\"Age: {mode_age_scipy}, BMI: {mode_bmi_scipy}, Charges: {mode_charges_scipy}\")\n",
    "\n"
   ]
  },
  {
   "cell_type": "markdown",
   "metadata": {},
   "source": [
    "Median and Mode are not affected by extreme values (i.e., by outliers), whereas Mean is affected by outliers."
   ]
  },
  {
   "cell_type": "markdown",
   "metadata": {},
   "source": [
    "#### Range\n",
    "It is the simplest measure of variability. Range is computed by taking the difference between the largest (maximum) value and the smallest (minimum) value."
   ]
  },
  {
   "cell_type": "code",
   "execution_count": null,
   "metadata": {},
   "outputs": [],
   "source": [
    "## Compute range of age, BMI, and Charges\n",
    "range_age = data['age'].max() - data['age'].min()\n",
    "range_bmi = data['bmi'].max() - data['bmi'].min()\n",
    "range_charges = data['charges'].max() - data['charges'].min()\n",
    "\n",
    "# Display the results\n",
    "print(\"Range of Age, BMI, and Charges:\")\n",
    "print(f\"Age: {range_age}\")\n",
    "print(f\"BMI: {range_bmi}\")\n",
    "print(f\"Charges: {range_charges}\")0"
   ]
  },
  {
   "cell_type": "markdown",
   "metadata": {},
   "source": [
    "#### Variance\n",
    "Variance is the average square deviation from each observation to the mean. It takes in all the values of the data. Variance of data is calculated by dividing the sum of the squares of each data point’s differences from the data’s average by the total number of values in the data. <br><br>\n",
    "\n",
    "A low variance implies that the values in the data are closer to the mean, and a higher variance indicates that the data is spread out from the mean.\n",
    "\n",
    "#### Standard deviation\n",
    "It is the positive square root of the variance. Standard deviation is denoted by sigma (σ). "
   ]
  },
  {
   "cell_type": "code",
   "execution_count": 7,
   "metadata": {},
   "outputs": [
    {
     "name": "stdout",
     "output_type": "stream",
     "text": [
      "Standard Deviation of Age, BMI, and Charges:\n",
      "Age: 14.049960379216154\n",
      "BMI: 6.098186911679014\n",
      "Charges: 12110.011236694001\n"
     ]
    }
   ],
   "source": [
    "# Compute Standard deviation for age, BMI, and charges.\n",
    "std_age = data['age'].std()\n",
    "std_bmi = data['bmi'].std()\n",
    "std_charges = data['charges'].std()\n",
    "\n",
    "# Display the results\n",
    "print(\"Standard Deviation of Age, BMI, and Charges:\")\n",
    "print(f\"Age: {std_age}\")\n",
    "print(f\"BMI: {std_bmi}\")\n",
    "print(f\"Charges: {std_charges}\")"
   ]
  },
  {
   "cell_type": "code",
   "execution_count": 9,
   "metadata": {},
   "outputs": [
    {
     "name": "stdout",
     "output_type": "stream",
     "text": [
      "Descriptive Statistics for Age, BMI, and Charges:\n",
      "\n",
      "Mean Values:\n",
      "age           39.207025\n",
      "bmi           30.663397\n",
      "charges    13270.422265\n",
      "dtype: float64\n",
      "\n",
      "Median Values:\n",
      "age          39.000\n",
      "bmi          30.400\n",
      "charges    9382.033\n",
      "dtype: float64\n",
      "\n",
      "Range Values:\n",
      "age           46.00000\n",
      "bmi           37.17000\n",
      "charges    62648.55411\n",
      "dtype: float64\n",
      "\n",
      "Standard Deviation Values:\n",
      "age           14.049960\n",
      "bmi            6.098187\n",
      "charges    12110.011237\n",
      "dtype: float64\n",
      "\n",
      "Five-Point Summary:\n",
      "      age       bmi       charges\n",
      "min  18.0  15.96000   1121.873900\n",
      "25%  27.0  26.29625   4740.287150\n",
      "50%  39.0  30.40000   9382.033000\n",
      "75%  51.0  34.69375  16639.912515\n",
      "max  64.0  53.13000  63770.428010\n",
      "\n",
      "Mode Values (Custom Function):\n",
      "Age: 18, BMI: 32.3, Charges: 1639.5631\n",
      "\n",
      "Mode Values (SciPy):\n"
     ]
    }
   ],
   "source": [
    "# Print all the descriptive statistics together.\n",
    "# Write a 15 line summary about your findings.\n",
    "# Print all the descriptive statistics together.\n",
    "\n",
    "#import pandas as pd\n",
    "#import numpy as np\n",
    "#from scipy.stats import mode as scipy_mode\n",
    "\n",
    "# Load the CSV file\n",
    "#data = 'data/insurance.csv'\n",
    "#data = pd.read_csv('data/insurance.csv')\n",
    "\n",
    "# Compute mean values\n",
    "mean_values = data[['age', 'bmi', 'charges']].mean()\n",
    "\n",
    "# Compute median values\n",
    "median_values = data[['age', 'bmi', 'charges']].median()\n",
    "\n",
    "# Compute range values\n",
    "range_values = data[['age', 'bmi', 'charges']].max() - data[['age', 'bmi', 'charges']].min()\n",
    "\n",
    "# Compute standard deviation values\n",
    "std_values = data[['age', 'bmi', 'charges']].std()\n",
    "\n",
    "# Compute five-point summary\n",
    "five_point_summary = data[['age', 'bmi', 'charges']].describe().loc[['min', '25%', '50%', '75%', 'max']]\n",
    "\n",
    "# Compute mode values using custom function\n",
    "def custom_mode(numpy_array):\n",
    "    values, counts = np.unique(numpy_array, return_counts=True)\n",
    "    max_count_index = np.argmax(counts)\n",
    "    return values[max_count_index]\n",
    "\n",
    "mode_age_custom = custom_mode(data['age'].to_numpy())\n",
    "mode_bmi_custom = custom_mode(data['bmi'].to_numpy())\n",
    "mode_charges_custom = custom_mode(data['charges'].to_numpy())\n",
    "                                  \n",
    "# Compute mode values using scipy\n",
    "mode_age_scipy = scipy_mode(data['age']).mode\n",
    "mode_bmi_scipy = scipy_mode(data['bmi']).mode\n",
    "mode_charges_scipy = scipy_mode(data['charges']).mode\n",
    "\n",
    "# Display the results\n",
    "print(\"Descriptive Statistics for Age, BMI, and Charges:\\n\")\n",
    "\n",
    "print(\"Mean Values:\")\n",
    "print(mean_values)\n",
    "\n",
    "print(\"\\nMedian Values:\")\n",
    "print(median_values)\n",
    "\n",
    "print(\"\\nRange Values:\")\n",
    "print(range_values)\n",
    "\n",
    "print(\"\\nStandard Deviation Values:\")\n",
    "print(std_values)\n",
    "\n",
    "print(\"\\nFive-Point Summary:\")\n",
    "print(five_point_summary)\n",
    "\n",
    "print(\"\\nMode Values (Custom Function):\")\n",
    "print(f\"Age: {mode_age_custom}, BMI: {mode_bmi_custom}, Charges: {mode_charges_custom}\")\n",
    "\n",
    "print(\"\\nMode Values (SciPy):\")"
   ]
  },
  {
   "cell_type": "markdown",
   "metadata": {},
   "source": [
    "## Skewness\n",
    "\n",
    "In probability theory and statistics, skewness is a measure of the asymmetry of the probability distribution of a real-valued random variable about its mean. The skewness value can be positive or negative, or undefined\n",
    "\n",
    "<img src=\"Images/skewness.jpg\" width=\"800\" height=\"250\">"
   ]
  },
  {
   "cell_type": "code",
   "execution_count": 11,
   "metadata": {},
   "outputs": [
    {
     "data": {
      "text/html": [
       "<div>\n",
       "<style scoped>\n",
       "    .dataframe tbody tr th:only-of-type {\n",
       "        vertical-align: middle;\n",
       "    }\n",
       "\n",
       "    .dataframe tbody tr th {\n",
       "        vertical-align: top;\n",
       "    }\n",
       "\n",
       "    .dataframe thead th {\n",
       "        text-align: right;\n",
       "    }\n",
       "</style>\n",
       "<table border=\"1\" class=\"dataframe\">\n",
       "  <thead>\n",
       "    <tr style=\"text-align: right;\">\n",
       "      <th></th>\n",
       "      <th>age</th>\n",
       "      <th>sex</th>\n",
       "      <th>bmi</th>\n",
       "      <th>children</th>\n",
       "      <th>smoker</th>\n",
       "      <th>region</th>\n",
       "      <th>charges</th>\n",
       "    </tr>\n",
       "  </thead>\n",
       "  <tbody>\n",
       "    <tr>\n",
       "      <th>0</th>\n",
       "      <td>19</td>\n",
       "      <td>female</td>\n",
       "      <td>27.900</td>\n",
       "      <td>0</td>\n",
       "      <td>yes</td>\n",
       "      <td>southwest</td>\n",
       "      <td>16884.92400</td>\n",
       "    </tr>\n",
       "    <tr>\n",
       "      <th>1</th>\n",
       "      <td>18</td>\n",
       "      <td>male</td>\n",
       "      <td>33.770</td>\n",
       "      <td>1</td>\n",
       "      <td>no</td>\n",
       "      <td>southeast</td>\n",
       "      <td>1725.55230</td>\n",
       "    </tr>\n",
       "    <tr>\n",
       "      <th>2</th>\n",
       "      <td>28</td>\n",
       "      <td>male</td>\n",
       "      <td>33.000</td>\n",
       "      <td>3</td>\n",
       "      <td>no</td>\n",
       "      <td>southeast</td>\n",
       "      <td>4449.46200</td>\n",
       "    </tr>\n",
       "    <tr>\n",
       "      <th>3</th>\n",
       "      <td>33</td>\n",
       "      <td>male</td>\n",
       "      <td>22.705</td>\n",
       "      <td>0</td>\n",
       "      <td>no</td>\n",
       "      <td>northwest</td>\n",
       "      <td>21984.47061</td>\n",
       "    </tr>\n",
       "    <tr>\n",
       "      <th>4</th>\n",
       "      <td>32</td>\n",
       "      <td>male</td>\n",
       "      <td>28.880</td>\n",
       "      <td>0</td>\n",
       "      <td>no</td>\n",
       "      <td>northwest</td>\n",
       "      <td>3866.85520</td>\n",
       "    </tr>\n",
       "  </tbody>\n",
       "</table>\n",
       "</div>"
      ],
      "text/plain": [
       "   age     sex     bmi  children smoker     region      charges\n",
       "0   19  female  27.900         0    yes  southwest  16884.92400\n",
       "1   18    male  33.770         1     no  southeast   1725.55230\n",
       "2   28    male  33.000         3     no  southeast   4449.46200\n",
       "3   33    male  22.705         0     no  northwest  21984.47061\n",
       "4   32    male  28.880         0     no  northwest   3866.85520"
      ]
     },
     "execution_count": 11,
     "metadata": {},
     "output_type": "execute_result"
    }
   ],
   "source": [
    "data.head()"
   ]
  },
  {
   "cell_type": "code",
   "execution_count": 12,
   "metadata": {},
   "outputs": [
    {
     "data": {
      "image/png": "[encoded data removed]",
      "text/plain": [
       "<Figure size 1000x600 with 1 Axes>"
      ]
     },
     "metadata": {},
     "output_type": "display_data"
    }
   ],
   "source": [
    "## plot the hist with mean median and mode - This needs to be checked! \n",
    "\n",
    "import numpy as np\n",
    "import matplotlib.pyplot as plt\n",
    "from scipy import stats\n",
    "\n",
    "bmi = np.array(data['bmi'])\n",
    "plt.figure(figsize=(10, 6)) \n",
    "plt.hist(bmi, bins=40, color = 'green')\n",
    "\n",
    "plt.plot([data['bmi'].mean()]*100, range(100), color = 'black', label='mean') \n",
    "plt.plot([data['bmi'].median()]*100, range(100), label='median')\n",
    "plt.plot([data['bmi'].mode()]*100, range(100), label='mode')\n",
    "\n",
    "plt.legend()\n",
    "plt.show()\n",
    "\n"
   ]
  },
  {
   "cell_type": "code",
   "execution_count": 15,
   "metadata": {},
   "outputs": [
    {
     "data": {
      "image/png": "[encoded data removed]",
      "text/plain": [
       "<Figure size 1000x600 with 1 Axes>"
      ]
     },
     "metadata": {},
     "output_type": "display_data"
    },
    {
     "data": {
      "image/png": "[encoded data removed]",
      "text/plain": [
       "<Figure size 1000x600 with 1 Axes>"
      ]
     },
     "metadata": {},
     "output_type": "display_data"
    }
   ],
   "source": [
    "# Plot similary histogram for age and charges.\n",
    "\n",
    "# Just by looking at the graph can you observe any skewness.\n",
    "\n",
    "# Try to compute the skewness of the age, bmi, and charges (google for respective function.)\n",
    "import numpy as np\n",
    "import matplotlib.pyplot as plt\n",
    "import seaborn as sns\n",
    "from scipy import stats\n",
    "\n",
    "age = np.array(data['age'])\n",
    "charges = np.array(data['charges'])\n",
    "\n",
    "plt.figure(figsize=(10, 6))\n",
    "sns.histplot(age, bins=40, color = 'blue',kde=True)\n",
    "plt.title('Age Distribution')\n",
    "plt.xlabel('Age')\n",
    "plt.ylabel('Frequency')\n",
    "plt.plot([data['bmi'].mean()]*100, range(100), color = 'black', label='mean') \n",
    "plt.plot([data['bmi'].median()]*100, range(100), label='median')\n",
    "plt.plot([data['bmi'].mode()]*100, range(100), label='mode')\n",
    "plt.legend()\n",
    "plt.show()\n",
    "\n",
    "plt.figure(figsize=(10, 6))\n",
    "sns.histplot(charges, bins=40, color = 'orange', kde=True)\n",
    "plt.title('Charges Distribution')\n",
    "plt.xlabel('Charges')\n",
    "plt.ylabel('Frequency')\n",
    "plt.plot([data['bmi'].mean()]*100, range(100), color = 'black', label='mean') \n",
    "# plt.plot([data['bmi'].median()]*100, range(100),color = 'red', label='median')\n",
    "# plt.plot([data['bmi'].mode()]*100, range(100), color = 'green',label='mode')\n",
    "plt.legend()\n",
    "plt.show()\n",
    "\n"
   ]
  },
  {
   "cell_type": "code",
   "execution_count": 18,
   "metadata": {},
   "outputs": [
    {
     "data": {
      "text/plain": [
       "13270.422265141257"
      ]
     },
     "execution_count": 18,
     "metadata": {},
     "output_type": "execute_result"
    }
   ],
   "source": [
    "data['charges'].mean()"
   ]
  },
  {
   "cell_type": "code",
   "execution_count": 17,
   "metadata": {},
   "outputs": [
    {
     "name": "stdout",
     "output_type": "stream",
     "text": [
      "Skewness of age: 0.05567251565299186\n",
      "Skewness of bmi: 0.2840471105987448\n",
      "Skewness of charges: 1.5158796580240388\n"
     ]
    }
   ],
   "source": [
    "# Just by looking at the graph can you observe any skewness.\n",
    "\n",
    "# Try to compute the skewness of the age, bmi, and charges (google for respective function.)\n",
    "\n",
    "import pandas as pd\n",
    "\n",
    "# Load the dataset\n",
    "data = pd.read_csv('insurance.csv')\n",
    "\n",
    "# Compute skewness\n",
    "skew_age = data['age'].skew()\n",
    "skew_bmi = data['bmi'].skew()\n",
    "skew_charges = data['charges'].skew()\n",
    "\n",
    "# Display the results\n",
    "print(f\"Skewness of age: {skew_age}\")\n",
    "print(f\"Skewness of bmi: {skew_bmi}\")\n",
    "print(f\"Skewness of charges: {skew_charges}\")"
   ]
  },
  {
   "cell_type": "markdown",
   "metadata": {},
   "source": [
    "### Covariance: Measure of Association between two variables"
   ]
  },
  {
   "cell_type": "markdown",
   "metadata": {},
   "source": [
    "#### Covariance\n",
    "Covariance measures the strength of the linear relationship between two numerical variables. Covariance cannot tell whether the value indicates a strong or weak relationship because covariance can take any value and the covariance value depends on the units of measurement of the variables x and y. This is where the next measure, the correlation coefficient, comes to aid us. \n",
    "\n",
    "#### Correlation Coefficient\n",
    "The correlation coefficient measures the relationship between two variables that are not affected by the units of measurement. This measure tells us the relative strength of a linear relationship between two numerical variables. \n",
    "\n",
    "<img src=\"Images/Correlation.jpg\" width=\"500\" height=\"250\">"
   ]
  },
  {
   "cell_type": "code",
   "execution_count": null,
   "metadata": {},
   "outputs": [],
   "source": [
    "# Compute correlation and covariance between bmi and charges\n",
    "\n",
    "# Compute correlation and covariance between charges and age\n",
    "\n",
    "# Compute correlation and covariance between age and bmi\n"
   ]
  }
 ],
 "metadata": {
  "kernelspec": {
   "display_name": "Python 3 (ipykernel)",
   "language": "python",
   "name": "python3"
  },
  "language_info": {
   "codemirror_mode": {
    "name": "ipython",
    "version": 3
   },
   "file_extension": ".py",
   "mimetype": "text/x-python",
   "name": "python",
   "nbconvert_exporter": "python",
   "pygments_lexer": "ipython3",
   "version": "3.12.2"
  }
 },
 "nbformat": 4,
 "nbformat_minor": 4
}
